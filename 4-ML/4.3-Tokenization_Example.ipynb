{
 "cells": [
  {
   "cell_type": "code",
   "execution_count": 15,
   "id": "43080059",
   "metadata": {},
   "outputs": [
    {
     "name": "stdout",
     "output_type": "stream",
     "text": [
      "['This is the first sentence.', 'This is the second sentence!', 'And this is the third sentence?']\n"
     ]
    }
   ],
   "source": [
    "import nltk\n",
    "from nltk.tokenize import sent_tokenize\n",
    "\n",
    "\n",
    "corpus = \"This is the first sentence. This is the second sentence! And this is the third sentence?\"\n",
    "sentences = sent_tokenize(corpus)\n",
    "print(sentences)\n"
   ]
  },
  {
   "cell_type": "code",
   "execution_count": null,
   "id": "25b5567f",
   "metadata": {},
   "outputs": [
    {
     "name": "stdout",
     "output_type": "stream",
     "text": [
      "['Hello', ',', 'Mr.', 'Smith', '!', 'You', \"'re\", 'looking', 'well', 'today', '.']\n"
     ]
    }
   ],
   "source": [
    "import nltk\n",
    "# nltk.download('punkt')\n",
    "# nltk.download('punkt_tab')\n",
    "from nltk.tokenize import word_tokenize\n",
    "\n",
    "\n",
    "corpus = \"Hello, Mr. Smith! You're looking well today.\"\n",
    "sentences = word_tokenize(corpus)\n",
    "print(sentences)\n",
    "\n",
    "# Handles abbreviations (Mr. stays together)\n",
    "# Splits contractions (You're → You + 're)\n",
    "# Tokenization method - Treebank tokenizer\n"
   ]
  },
  {
   "cell_type": "code",
   "execution_count": null,
   "id": "a093e381",
   "metadata": {},
   "outputs": [
    {
     "name": "stdout",
     "output_type": "stream",
     "text": [
      "['Hello', ',', 'Mr', '.', 'Smith', '!', 'You', \"'\", 're', 'looking', 'well', 'today', '.', 'But', 'Good', 'fro', 'you', '.']\n"
     ]
    }
   ],
   "source": [
    "import nltk\n",
    "from nltk.tokenize import wordpunct_tokenize\n",
    "\n",
    "corpus = \"Hello, Mr. Smith! You're looking well today. How am i looking.\"\n",
    "sentences = wordpunct_tokenize(corpus)\n",
    "print(sentences)\n",
    "\n",
    "# Breaks contractions aggressively (You're → You + ' + re)\n",
    "# Mr. is split → Mr, .\n",
    "# Tokenization method - Regex-based tokenizer"
   ]
  },
  {
   "cell_type": "code",
   "execution_count": null,
   "id": "5b826ba6",
   "metadata": {},
   "outputs": [
    {
     "data": {
      "text/plain": [
       "['Hello',\n",
       " ',',\n",
       " 'Mr.',\n",
       " 'Smith',\n",
       " '!',\n",
       " 'You',\n",
       " \"'re\",\n",
       " 'looking',\n",
       " 'well',\n",
       " 'today.',\n",
       " 'How',\n",
       " 'am',\n",
       " 'i',\n",
       " 'looking',\n",
       " '.']"
      ]
     },
     "execution_count": 29,
     "metadata": {},
     "output_type": "execute_result"
    }
   ],
   "source": [
    "import nltk\n",
    "from nltk.tokenize import TreebankWordTokenizer\n",
    "tokenizer = TreebankWordTokenizer()\n",
    "\n",
    "corpus = \"Hello, Mr. Smith! You're looking well today. How am i looking.\"\n",
    "tokenizer.tokenize(corpus)\n",
    "\n",
    "# all fullstops except last one are preserved with the last word"
   ]
  },
  {
   "cell_type": "code",
   "execution_count": null,
   "id": "c3f5edc3",
   "metadata": {},
   "outputs": [],
   "source": []
  }
 ],
 "metadata": {
  "kernelspec": {
   "display_name": "venv",
   "language": "python",
   "name": "python3"
  },
  "language_info": {
   "codemirror_mode": {
    "name": "ipython",
    "version": 3
   },
   "file_extension": ".py",
   "mimetype": "text/x-python",
   "name": "python",
   "nbconvert_exporter": "python",
   "pygments_lexer": "ipython3",
   "version": "3.11.5"
  }
 },
 "nbformat": 4,
 "nbformat_minor": 5
}
